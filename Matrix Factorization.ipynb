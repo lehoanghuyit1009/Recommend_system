{
 "cells": [
  {
   "cell_type": "code",
   "execution_count": 150,
   "metadata": {},
   "outputs": [
    {
     "name": "stdout",
     "output_type": "stream",
     "text": [
      "A [[1 4 5 0 3]\n",
      " [5 1 0 5 2]\n",
      " [4 1 2 5 0]\n",
      " [0 3 4 0 4]]\n",
      "So user: 4\n",
      "So item: 5\n",
      "Ma tran ban dau:\n",
      "  [[1 4 5 0 3]\n",
      " [5 1 0 5 2]\n",
      " [4 1 2 5 0]\n",
      " [0 3 4 0 4]]\n",
      "Ma tran sau khi ap dung MF:\n",
      "  [[0.99998889 3.99990112 5.00004926 4.2786538  3.00002301]\n",
      " [4.99989558 0.99981686 2.0420051  5.00009706 2.00005792]\n",
      " [4.00010166 1.00012312 1.99999965 4.99990287 0.77849969]\n",
      " [3.1224655  3.00012682 3.99995716 4.20169752 3.99995   ]]\n",
      "Ma tran làm tròn:\n",
      " [[1. 4. 5. 4. 3.]\n",
      " [5. 1. 2. 5. 2.]\n",
      " [4. 1. 2. 5. 1.]\n",
      " [3. 3. 4. 4. 4.]]\n"
     ]
    }
   ],
   "source": [
    "import numpy as np\n",
    "np.random.seed(4)\n",
    "def MF(A, K, eta=0.1, steps =500):\n",
    "    # khởi tạo 2 ma trận W, H ngẫu nhiên\n",
    "    W = np.random.rand(user, K)\n",
    "    H = np.random.rand(K, item)\n",
    "    step =0\n",
    "    while(step < steps):\n",
    "        for u in range(0, user):\n",
    "            for i in range(0, item):\n",
    "                if A[u][i] >0 :\n",
    "                    r_bar =0\n",
    "                    for k in range(K):\n",
    "                        r_bar += np.dot(W[u][k], H[k][i])\n",
    "                    eui = A[u][i] - r_bar\n",
    "#                     print(eui)\n",
    "#                     eui = A[u][i] - np.dot(W[u,:], H[:,i])\n",
    "#                     print('eui', eui)\n",
    "                    for k in range(K):\n",
    "                        W[u][k] += 2*eta*(eui* H[k][i])\n",
    "                        H[k][i] += 2*eta*(eui* W[u][k])\n",
    "        step +=1\n",
    "    return np.dot(W,H)\n",
    "\n",
    "A = np.array([[1,4,5,0,3],\n",
    "              [5,1,0,5,2],\n",
    "              [4,1,2,5,0],\n",
    "              [0,3,4,0,4]])\n",
    "print('A', A)\n",
    "\n",
    "user = A.shape[0] # số user\n",
    "item = A.shape[1] # số item\n",
    "print('So user:', user)\n",
    "print('So item:', item)\n",
    "\n",
    "\n",
    "MF =MF(A,3,0.01,1000)\n",
    "Y =np.array([[round(MF[i][j]) for j in range(item)]for i in range(user)]) #làm tròn\n",
    "print('Ma tran ban dau:\\n ', A)\n",
    "print('Ma tran sau khi ap dung MF:\\n ', MF)\n",
    "print('Ma tran làm tròn:\\n',Y)"
   ]
  }
 ],
 "metadata": {
  "kernelspec": {
   "display_name": "Python 3",
   "language": "python",
   "name": "python3"
  },
  "language_info": {
   "codemirror_mode": {
    "name": "ipython",
    "version": 3
   },
   "file_extension": ".py",
   "mimetype": "text/x-python",
   "name": "python",
   "nbconvert_exporter": "python",
   "pygments_lexer": "ipython3",
   "version": "3.7.1"
  }
 },
 "nbformat": 4,
 "nbformat_minor": 2
}
